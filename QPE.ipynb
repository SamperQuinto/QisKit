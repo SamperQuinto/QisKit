{
 "cells": [
  {
   "cell_type": "markdown",
   "id": "4f2fee88-cc4a-477e-b8fb-546ce8b5bcc3",
   "metadata": {},
   "source": [
    "# **Laboratorio: Estimación de fase del operador U**"
   ]
  },
  {
   "cell_type": "markdown",
   "id": "63db589a-365e-4a81-82b7-bafeab97909d",
   "metadata": {},
   "source": [
    "El objetivo del ejercicio es estimar, con la suficiente precisión, la fase del operador unitario $U$ que aplica una rotación con respecto al eje $Z$ de $\\frac{\\pi}{9}$ al estado $|1\\rangle$.\n",
    "\n",
    "$$U|1\\rangle = e^{\\frac{i\\pi}{9}}|1\\rangle$$"
   ]
  },
  {
   "cell_type": "markdown",
   "id": "ce1d0723-deb3-4e3c-a97c-dfe21d9fde83",
   "metadata": {},
   "source": [
    "**Introducción teórica**"
   ]
  },
  {
   "cell_type": "markdown",
   "id": "f98121ac-585d-4648-a419-2a7d72413c53",
   "metadata": {},
   "source": [
    "Los operadores unitarios poseen autovalores de norma 1 por definición. El operador $U$ actúa sobre su autoestado $|\\Psi\\rangle$ de la siguiente forma:\n",
    "\n",
    "$$U |\\Psi\\rangle = e^{i 2 \\pi \\theta}|\\Psi\\rangle = e^{i \\theta'}|\\Psi\\rangle $$\n",
    "\n",
    "Nótese que: \n",
    "\n",
    "$$\\theta' = 2 \\pi \\theta$$\n",
    "\n",
    "El algoritmo de estimación de fase obtiene el valor de $\\theta$ dado un operador unitario y su autoestado al construir el estado correspondiente en la fase de Fourier, es decir, por la aplicación de sucesivas puertas $\\textit{controlled-phase}$ que se aplican sobre los distintos qubits de estimación, se consigue el vector correspondiente a la fase a descubrir en la fase de Fourier salvo por un factor $2^{n}$, por lo que al realizar la transformada inversa de Fourier contenida en el algoritmo de estimación de fase deberá dividirse por tal factor para recuperar el valor de $\\theta$ a obtener, es decir.\n",
    "\n",
    "$$\n",
    "|\\Psi\\rangle \\longrightarrow \\text{Controlled-Phase} = \\sum{e^{2\\pi i \\theta k} |k\\rangle \\otimes |\\Psi\\rangle} =  \\sum{\\left(e^{2\\pi i \\frac{jk}{N}}\\right)^{2^{n}}|j\\rangle \\otimes \\Psi\\rangle}\n",
    "$$\n",
    "\n",
    "Así, tras haber aplicado el algoritmo de estimación de fase, se obtiene $\\theta$ de la siguiente manera: \n",
    "\n",
    "$$\n",
    "|\\Phi\\rangle_{b} \\rightarrow |\\Phi\\rangle_{d} \\longrightarrow \\theta = \\frac{\\Phi_{d}}{2^{n}}\n",
    "$$\n",
    "\n",
    "Siendo $|\\Phi\\rangle_{b}$ el estado al salir del algoritmo de estimacion de fase, el subindice b denota que su interpretación es binaria, y $|\\Phi\\rangle_{d}$ el estado al salir del algoritmo con interpretación decimal.\n"
   ]
  },
  {
   "cell_type": "markdown",
   "id": "1c74a543-5134-4766-9829-74886d20c7eb",
   "metadata": {},
   "source": [
    "**Librerias**"
   ]
  },
  {
   "cell_type": "code",
   "execution_count": 12,
   "id": "3badcd22-f028-4b18-b846-8c809e3fc567",
   "metadata": {},
   "outputs": [],
   "source": [
    "import numpy as np\n",
    "import matplotlib.pyplot as plt\n",
    "from qiskit import *\n",
    "from qiskit.tools.jupyter import *\n",
    "from qiskit.visualization import *\n",
    "from ibm_quantum_widgets import *\n",
    "from qiskit.providers.aer import AerSimulator"
   ]
  },
  {
   "cell_type": "markdown",
   "id": "7de1d33a-49fb-44c1-b999-6ff9fc8b48cb",
   "metadata": {},
   "source": [
    "**Construcción de IFTQ**"
   ]
  },
  {
   "cell_type": "code",
   "execution_count": 13,
   "id": "3a88abd3-d6ce-4260-b004-5ce6c755e0c0",
   "metadata": {},
   "outputs": [],
   "source": [
    "# circ: circuito a donde se va a incorporar la IQFT\n",
    "# nq = indica sobre qué cubits se va a aplicar, por defecto los n primeros\n",
    "def iqft(circ, nq):\n",
    "\n",
    "    for qubit in range(int(nq/2)):\n",
    "        circ.swap(qubit, nq-qubit-1)\n",
    "    for j in range(0,nq):\n",
    "        for m in range(j):\n",
    "            circ.cp(-np.pi/float(2**(j-m)), m, j)\n",
    "        circ.h(j)\n",
    "    return circ"
   ]
  },
  {
   "cell_type": "markdown",
   "id": "e5b7f158-72cd-4e78-9be1-4d9dc732fa19",
   "metadata": {},
   "source": [
    "**Construcción de QPE**"
   ]
  },
  {
   "cell_type": "code",
   "execution_count": 17,
   "id": "52555816-916c-402f-ab42-e3a031eade1e",
   "metadata": {},
   "outputs": [],
   "source": [
    "# qe = qubits de estimación, a mayor número de qubits, mayor precisión (a priori) sobre la fase estimada, como se verá a continuación puede no ser así\n",
    "# phase = fase que introduce el operador unitario U\n",
    "\n",
    "def qpe(qe,phase):\n",
    "    \n",
    "    qreg_estimator = QuantumRegister(qe,'q')\n",
    "    qreg_state = QuantumRegister(1,'state')\n",
    "    creg= ClassicalRegister(qe,'b')\n",
    "    circ = QuantumCircuit(qreg_estimator,qreg_state,creg)\n",
    "    \n",
    "    circ.initialize([0,1],qreg_state[0])\n",
    "    \n",
    "    for i in range(qe):\n",
    "          circ.h(qreg_estimator[i])\n",
    "    \n",
    "    for i in range(qe):\n",
    "          circ.cp(phase * 2 ** i,qreg_estimator[i],qreg_state[0])\n",
    "    \n",
    "    iqft(circ,qe)\n",
    "    \n",
    "    circ.measure(qreg_estimator,creg)\n",
    "    \n",
    "    shots=20000\n",
    "    backend = AerSimulator(method='statevector')\n",
    "    job = backend.run(transpile(circ),shots=shots)\n",
    "    result = job.result()\n",
    "    counts = result.get_counts()\n",
    "    \n",
    "    max_state = max(counts, key=counts.get)\n",
    "    \n",
    "    theta = int(max_state, 2) / 2 ** qe\n",
    "    \n",
    "    return theta"
   ]
  },
  {
   "cell_type": "markdown",
   "id": "3677ba28-169d-4729-8d3d-b8346d103930",
   "metadata": {},
   "source": [
    "**Cálculo de $\\theta$**"
   ]
  },
  {
   "cell_type": "code",
   "execution_count": 19,
   "id": "aaf63059-aeec-4f51-a60d-082a87552b94",
   "metadata": {},
   "outputs": [],
   "source": [
    "qubits = []\n",
    "phases = []\n",
    "\n",
    "\n",
    "for i in range(1,15):\n",
    "    \n",
    "    phase = np.pi/9\n",
    "    qe = i\n",
    "  \n",
    "    qubits.append(qe)\n",
    "    phases.append(qpe(qe,phase))"
   ]
  },
  {
   "cell_type": "code",
   "execution_count": 23,
   "id": "c1ebe92b-5a35-4de9-873e-76d1ba659576",
   "metadata": {},
   "outputs": [
    {
     "data": {
      "image/png": "[encoded data removed]",
      "text/plain": [
       "<Figure size 432x288 with 1 Axes>"
      ]
     },
     "metadata": {
      "needs_background": "light"
     },
     "output_type": "display_data"
    }
   ],
   "source": [
    "plt.plot(qubits,phases,'-o')\n",
    "plt.axhline(y=1/18, color='red')\n",
    "plt.legend(['\\u03B8 estimada de U','Valor teórico de \\u03B8'],loc='lower right')\n",
    "plt.xlabel('Qubits de estimación')\n",
    "plt.ylabel('Fase')\n",
    "plt.ylim(0, 0.08)\n",
    "plt.show()"
   ]
  },
  {
   "cell_type": "markdown",
   "id": "71a172df-c1e4-4a36-b58d-ffe003443c0b",
   "metadata": {},
   "source": [
    "Como s epuede observar, se puede decir que la fase estimada converge para 10 qubits de forma aproximada al valor teórico, así:"
   ]
  },
  {
   "cell_type": "code",
   "execution_count": 26,
   "id": "ade750ea-3312-429f-89c1-b319305778ca",
   "metadata": {},
   "outputs": [
    {
     "name": "stdout",
     "output_type": "stream",
     "text": [
      "θ estimada para 10 qubits es: 0.0556640625\n"
     ]
    }
   ],
   "source": [
    "phase = np.pi/9\n",
    "qubits_estimacion = 10\n",
    "print('\\u03B8 estimada para 10 qubits es:',qpe(qubits_estimacion,phase))"
   ]
  }
 ],
 "metadata": {
  "kernelspec": {
   "display_name": "Python 3 (ipykernel)",
   "language": "python",
   "name": "python3"
  },
  "language_info": {
   "codemirror_mode": {
    "name": "ipython",
    "version": 3
   },
   "file_extension": ".py",
   "mimetype": "text/x-python",
   "name": "python",
   "nbconvert_exporter": "python",
   "pygments_lexer": "ipython3",
   "version": "3.8.13"
  },
  "widgets": {
   "application/vnd.jupyter.widget-state+json": {
    "state": {},
    "version_major": 2,
    "version_minor": 0
   }
  }
 },
 "nbformat": 4,
 "nbformat_minor": 5
}
