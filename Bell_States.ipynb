{
 "cells": [
  {
   "cell_type": "markdown",
   "id": "aebd7acd-e03b-4fb0-8bdb-907deb3c9bee",
   "metadata": {
    "tags": []
   },
   "source": [
    "# Ejercicio 2.1: Estados de Bell\n",
    "\n",
    "Implementar cuatro circuitos cuánticos de forma que cada uno de ellos haga evolucionar el estado del sistema a cada uno de los cuatro estados de Bell. Describe la evolución del sistema paso a paso de dos formas: con notación de Dirac y en forma matricial. Finalmente, implementa los circuitos utilizando Qiskit Quantum Lab y verifica que los resultados son los esperados.\n"
   ]
  },
  {
   "cell_type": "markdown",
   "id": "9068ec7b-65c9-4f47-b00e-5ebd5d850a85",
   "metadata": {
    "tags": []
   },
   "source": [
    "**Librerias**"
   ]
  },
  {
   "cell_type": "code",
   "execution_count": 1,
   "id": "cf351ad6-3b89-4b8a-b381-dfb0e84cf299",
   "metadata": {},
   "outputs": [
    {
     "name": "stderr",
     "output_type": "stream",
     "text": [
      "<frozen importlib._bootstrap>:219: RuntimeWarning: scipy._lib.messagestream.MessageStream size changed, may indicate binary incompatibility. Expected 56 from C header, got 64 from PyObject\n"
     ]
    }
   ],
   "source": [
    "import numpy as np\n",
    "from qiskit import QuantumCircuit, transpile, Aer, IBMQ,QuantumRegister,execute\n",
    "from qiskit.tools.jupyter import *\n",
    "from qiskit.visualization import *\n",
    "from ibm_quantum_widgets import *\n",
    "from qiskit.providers.aer import QasmSimulator\n",
    "from qiskit.quantum_info import state_fidelity"
   ]
  },
  {
   "cell_type": "markdown",
   "id": "499236db-a32b-4008-b1bb-2900a3d9b64c",
   "metadata": {},
   "source": [
    "**Explicación de la función que genera los estados de Bell**"
   ]
  },
  {
   "cell_type": "markdown",
   "id": "556128ec-ef1f-430d-8d3e-c5804a715188",
   "metadata": {},
   "source": [
    "La función que genera los estados de Bell, `bell_state_evolution()` admite un solo parametro de entrada, el valor de dicho parametro de entrada indical cual es el estado de Bell que quiere generarse. El parametro de entrada 'state' posee cuatro valores:\n",
    "\n",
    "- state = 0 -----------> $U_{0}|00> = \\frac{1}{\\sqrt{2}}(|00> + |11>)$\n",
    "\n",
    "- state = 1 -----------> $U_{1}|00> = \\frac{1}{\\sqrt{2}}(|10> + |01>)$\n",
    "\n",
    "- state = 2 -----------> $U_{2}|00> = \\frac{1}{\\sqrt{2}}(|00> - |11>)$\n",
    "\n",
    "- state = 3 -----------> $U_{3}|00> = \\frac{1}{\\sqrt{2}}(|10> - |01>)$\n",
    "\n",
    "Donde $U_{i}$ es el circuito $i$ que evoluciona el estado desde un estado incial $|00>$ hasta el estado final indicado. En caso de introducir un valor distinto a los indicados como parametro de entrada a la función `bell_state_evolution()` esta devolverá un error indicando **'Parametro de entrada no valido'**. Por otro lado, nos apoyaremos en la función de Qiskit **state_fidelity()**, la cual nos permite comparar como de parecidos son dos estados cuanticos, por tanto si los estados son identicos esta función devolverá el valor 1, por otro lado si los estados son diametralmente distintos, la función devolverá el valor 0. Los resultados que devuelve la función `bell_state_evolution()` en el caso de introducir un parametro valido, son:\n",
    "\n",
    "- **result:** que indica cual es el estado final generado\n",
    "- **final_state:** que indica cual es el estado final deseado\n",
    "- **fidelidad:** que indica si el estado final obtenido coincide con el estado final deseado, 1 si coincide y 0 si son diamtralmente distintos\n",
    "- **qc.draw():** que pinta cual es el circuito que generá el estado de Bell deseado "
   ]
  },
  {
   "cell_type": "markdown",
   "id": "5060b73c-fd73-4ed5-96d5-ff676dcfc9bd",
   "metadata": {},
   "source": [
    "**Función que genera los estados de Bell**"
   ]
  },
  {
   "cell_type": "code",
   "execution_count": 25,
   "id": "62d22b67-458c-42f8-ae82-73772e508608",
   "metadata": {},
   "outputs": [],
   "source": [
    "def bell_state_evolution(state):\n",
    "    \n",
    "    ''' \n",
    "    Función que genera los estados de Bell\n",
    "    - state: indica cual es el estado de Bell final que se quiere conseguir, el parametro state solo admite cuatro valores distintos (0,1,2,4)\n",
    "    '''\n",
    "    \n",
    "    # Crear un registro cuántico con dos qubits\n",
    "    \n",
    "    q = QuantumRegister(2,'qubit')\n",
    "    \n",
    "    # Crear un circuito cuántico\n",
    "    \n",
    "    qc = QuantumCircuit(q)\n",
    "    \n",
    "    # Asegurando que el parámetro de entrada sea un string\n",
    "    \n",
    "    state = str(state)\n",
    "    \n",
    "    # Aplicar las compuertas de evolución según el parámetro de entrada\n",
    "    \n",
    "    if state == \"0\":\n",
    "        qc.h(q[0])\n",
    "        qc.cx(q[0], q[1])\n",
    "        expected_state = (1/2**0.5) * np.array([1, 0, 0, 1])\n",
    "        final_state = \"1/sqrt(2)(|00> + |11>)\"\n",
    "        \n",
    "    elif state == \"1\":\n",
    "        qc.x(q[1])\n",
    "        qc.h(q[0])\n",
    "        qc.cx(q[0], q[1])\n",
    "        final_state = \"1/sqrt(2)(|10> + |01>)\"\n",
    "        expected_state = (1/2**0.5) * np.array([0, 1, 1, 0])\n",
    "        \n",
    "    elif state == \"2\":\n",
    "        qc.x(q[0])\n",
    "        qc.h(q[0])\n",
    "        qc.cx(q[0], q[1])\n",
    "        final_state = \"1/sqrt(2)(|00> - |11>)\"\n",
    "        expected_state = (1/2**0.5) * np.array([1, 0, 0, -1])\n",
    "        \n",
    "    elif state == \"3\":\n",
    "        qc.x(q[0])\n",
    "        qc.h(q[0])\n",
    "        qc.x(q[1])\n",
    "        qc.cx(q[0], q[1])\n",
    "        final_state = \"1/sqrt(2)(|10> - |01>)\"\n",
    "        expected_state = (1/2**0.5) * np.array([0, 1, -1, 0])\n",
    "        \n",
    "    else:\n",
    "        \n",
    "        return print(\"Parametro de entrada no valido\")\n",
    "    \n",
    "    # Ejecutar el circuito para comprobrar el resultado obtenido con el resultado esperado\n",
    "    \n",
    "    backend = Aer.get_backend('statevector_simulator')\n",
    "    job = execute(qc, backend)\n",
    "    result = job.result().get_statevector()\n",
    "    \n",
    "    # Comprobar la simulitud del estado final obtenido y del estado final esperado\n",
    "    \n",
    "    fidelidad = state_fidelity(result, expected_state)\n",
    "    \n",
    "    display(array_to_latex(result, prefix=\"- Estado \\; generado: |\\\\psi\\\\rangle =\"))\n",
    "    \n",
    "    print(\"Estado final deseado: \",final_state)\n",
    "    print(\"Fidelidad:\",np.around(fidelidad))\n",
    "    \n",
    "    return qc.draw(output='latex') "
   ]
  },
  {
   "cell_type": "markdown",
   "id": "cd910d00-516c-4f80-b83c-d3aed171c2e6",
   "metadata": {},
   "source": [
    "**Ejemplos de la función bell_state_evolution()**"
   ]
  },
  {
   "cell_type": "markdown",
   "id": "7f7ecebb-69ed-49df-94e7-e56aae8bc735",
   "metadata": {},
   "source": [
    "Estado de Bell 0"
   ]
  },
  {
   "cell_type": "code",
   "execution_count": 3,
   "id": "c2d84798-1783-4d79-8095-9647fe838353",
   "metadata": {},
   "outputs": [],
   "source": [
    "state_0=0"
   ]
  },
  {
   "cell_type": "code",
   "execution_count": 4,
   "id": "63beef27-1b59-45f4-a010-4a82134c2a38",
   "metadata": {},
   "outputs": [
    {
     "data": {
      "text/latex": [
       "$$\n",
       "- Estado \\; generado: |\\psi\\rangle =\n",
       "\\begin{bmatrix}\n",
       "\\tfrac{1}{\\sqrt{2}} & 0 & 0 & \\tfrac{1}{\\sqrt{2}}  \\\\\n",
       " \\end{bmatrix}\n",
       "$$"
      ],
      "text/plain": [
       "<IPython.core.display.Latex object>"
      ]
     },
     "metadata": {},
     "output_type": "display_data"
    },
    {
     "name": "stdout",
     "output_type": "stream",
     "text": [
      "Estado final deseado:  1/sqrt(2)(|00> + |11>)\n",
      "Fidelidad: 1.0\n"
     ]
    },
    {
     "data": {
      "image/png": "[encoded data removed]",
      "text/plain": [
       "<PIL.Image.Image image mode=RGB size=204x54 at 0x7FD6F6F25760>"
      ]
     },
     "execution_count": 4,
     "metadata": {},
     "output_type": "execute_result"
    }
   ],
   "source": [
    "bell_state_evolution(state_0)"
   ]
  },
  {
   "cell_type": "markdown",
   "id": "009fc87a-56f0-43e4-9bcb-b39a10ca139c",
   "metadata": {},
   "source": [
    "Estado de Bell 1"
   ]
  },
  {
   "cell_type": "code",
   "execution_count": 15,
   "id": "d1aacb4c-c15a-4b6d-bbb6-23faad0c1675",
   "metadata": {},
   "outputs": [],
   "source": [
    "state_1=1"
   ]
  },
  {
   "cell_type": "code",
   "execution_count": 16,
   "id": "b2e919a6-f5b0-45ed-bf97-a30de694b009",
   "metadata": {},
   "outputs": [
    {
     "data": {
      "text/latex": [
       "$$\n",
       "- Estado \\; generado: |\\psi\\rangle =\n",
       "\\begin{bmatrix}\n",
       "0 & \\tfrac{1}{\\sqrt{2}} & \\tfrac{1}{\\sqrt{2}} & 0  \\\\\n",
       " \\end{bmatrix}\n",
       "$$"
      ],
      "text/plain": [
       "<IPython.core.display.Latex object>"
      ]
     },
     "metadata": {},
     "output_type": "display_data"
    },
    {
     "name": "stdout",
     "output_type": "stream",
     "text": [
      "Estado final deseado:  1/sqrt(2)(|01> + |10>)\n",
      "Fidelidad: 1.0\n"
     ]
    },
    {
     "data": {
      "image/png": "[encoded data removed]",
      "text/plain": [
       "<PIL.Image.Image image mode=RGB size=204x59 at 0x7FD6F6F25F10>"
      ]
     },
     "execution_count": 16,
     "metadata": {},
     "output_type": "execute_result"
    }
   ],
   "source": [
    "bell_state_evolution(state_1)"
   ]
  },
  {
   "cell_type": "markdown",
   "id": "7ee800ec-a1aa-4239-9e72-c0a4e5b26455",
   "metadata": {},
   "source": [
    "Estado de Bell 2"
   ]
  },
  {
   "cell_type": "code",
   "execution_count": 18,
   "id": "97df8af4-1bef-435d-9765-12c90e98ab73",
   "metadata": {},
   "outputs": [],
   "source": [
    "state_2=2"
   ]
  },
  {
   "cell_type": "code",
   "execution_count": 19,
   "id": "291c5503-8ad5-4f40-bdd4-31e60caf427f",
   "metadata": {},
   "outputs": [
    {
     "data": {
      "text/latex": [
       "$$\n",
       "- Estado \\; generado: |\\psi\\rangle =\n",
       "\\begin{bmatrix}\n",
       "\\tfrac{1}{\\sqrt{2}} & 0 & 0 & -\\tfrac{1}{\\sqrt{2}}  \\\\\n",
       " \\end{bmatrix}\n",
       "$$"
      ],
      "text/plain": [
       "<IPython.core.display.Latex object>"
      ]
     },
     "metadata": {},
     "output_type": "display_data"
    },
    {
     "name": "stdout",
     "output_type": "stream",
     "text": [
      "Estado final deseado:  1/sqrt(2)(|00> - |11>)\n",
      "Fidelidad: 1.0\n"
     ]
    },
    {
     "data": {
      "image/png": "[encoded data removed]",
      "text/plain": [
       "<PIL.Image.Image image mode=RGB size=253x54 at 0x7FD74CCE1340>"
      ]
     },
     "execution_count": 19,
     "metadata": {},
     "output_type": "execute_result"
    }
   ],
   "source": [
    "bell_state_evolution(state_2)"
   ]
  },
  {
   "cell_type": "markdown",
   "id": "9d280cd1-6f30-4c8a-978b-d651347ebf2c",
   "metadata": {},
   "source": [
    "Estado de Bell 3"
   ]
  },
  {
   "cell_type": "code",
   "execution_count": 23,
   "id": "f302108d-2b94-4bd8-993d-d7b5d031d8bc",
   "metadata": {},
   "outputs": [],
   "source": [
    "state_3=3"
   ]
  },
  {
   "cell_type": "code",
   "execution_count": 26,
   "id": "32ae9556-262a-428d-bfcd-532771eaa1cc",
   "metadata": {},
   "outputs": [
    {
     "data": {
      "text/latex": [
       "$$\n",
       "- Estado \\; generado: |\\psi\\rangle =\n",
       "\\begin{bmatrix}\n",
       "0 & -\\tfrac{1}{\\sqrt{2}} & \\tfrac{1}{\\sqrt{2}} & 0  \\\\\n",
       " \\end{bmatrix}\n",
       "$$"
      ],
      "text/plain": [
       "<IPython.core.display.Latex object>"
      ]
     },
     "metadata": {},
     "output_type": "display_data"
    },
    {
     "name": "stdout",
     "output_type": "stream",
     "text": [
      "Estado final deseado:  1/sqrt(2)(|10> - |01>)\n",
      "Fidelidad: 1.0\n"
     ]
    },
    {
     "data": {
      "image/png": "[encoded data removed]",
      "text/plain": [
       "<PIL.Image.Image image mode=RGB size=253x59 at 0x7FD7679214F0>"
      ]
     },
     "execution_count": 26,
     "metadata": {},
     "output_type": "execute_result"
    }
   ],
   "source": [
    "bell_state_evolution(state_3)"
   ]
  },
  {
   "cell_type": "markdown",
   "id": "8fd45ad2-e001-4bf8-b733-e0a7297c351a",
   "metadata": {},
   "source": [
    "Estado de Bell no valido"
   ]
  },
  {
   "cell_type": "code",
   "execution_count": 12,
   "id": "d2d82e81-447e-4be8-b101-2691dcd2f2eb",
   "metadata": {},
   "outputs": [],
   "source": [
    "state_no_valido=4"
   ]
  },
  {
   "cell_type": "code",
   "execution_count": 13,
   "id": "a359c380-4ef5-4c8f-9ec2-1db48146a34e",
   "metadata": {},
   "outputs": [
    {
     "name": "stdout",
     "output_type": "stream",
     "text": [
      "Parametro de entrada no valido\n"
     ]
    }
   ],
   "source": [
    "bell_state_evolution(state_no_valido)"
   ]
  }
 ],
 "metadata": {
  "kernelspec": {
   "display_name": "Python 3 (ipykernel)",
   "language": "python",
   "name": "python3"
  },
  "language_info": {
   "codemirror_mode": {
    "name": "ipython",
    "version": 3
   },
   "file_extension": ".py",
   "mimetype": "text/x-python",
   "name": "python",
   "nbconvert_exporter": "python",
   "pygments_lexer": "ipython3",
   "version": "3.8.13"
  },
  "widgets": {
   "application/vnd.jupyter.widget-state+json": {
    "state": {
     "03b524fa774d432c9979fcd02c7bc2d4": {
      "model_module": "@jupyter-widgets/base",
      "model_module_version": "1.2.0",
      "model_name": "LayoutModel",
      "state": {
       "grid_area": "right",
       "padding": "0px 0px 0px 0px",
       "width": "70px"
      }
     },
     "0634bdeb5c724b07948f76bbae1723a5": {
      "model_module": "@jupyter-widgets/base",
      "model_module_version": "1.2.0",
      "model_name": "LayoutModel",
      "state": {
       "width": "145px"
      }
     },
     "0b45b8749887492b99b22190fe8cfad9": {
      "model_module": "@jupyter-widgets/controls",
      "model_module_version": "1.5.0",
      "model_name": "HTMLModel",
      "state": {
       "layout": "IPY_MODEL_b1a219cd26dd4db7a77e852a5d69a0d1",
       "style": "IPY_MODEL_267b2320bd904e3888f8bd448fb93eb8",
       "value": "<h5>Queue</h5>"
      }
     },
     "178f871dbe574d60830427dba3e50174": {
      "model_module": "@jupyter-widgets/controls",
      "model_module_version": "1.5.0",
      "model_name": "DescriptionStyleModel",
      "state": {
       "description_width": ""
      }
     },
     "1d428be8408b45c8bdc26d937503d397": {
      "model_module": "@jupyter-widgets/base",
      "model_module_version": "1.2.0",
      "model_name": "LayoutModel",
      "state": {}
     },
     "267b2320bd904e3888f8bd448fb93eb8": {
      "model_module": "@jupyter-widgets/controls",
      "model_module_version": "1.5.0",
      "model_name": "DescriptionStyleModel",
      "state": {
       "description_width": ""
      }
     },
     "29e475e0cd0c422ea76cd9b642f08c59": {
      "model_module": "@jupyter-widgets/controls",
      "model_module_version": "1.5.0",
      "model_name": "HBoxModel",
      "state": {
       "children": [
        "IPY_MODEL_ca26a29380384207b4ac6835ad73b0ed",
        "IPY_MODEL_6af0d28855c643a9a8d700c8862d0966",
        "IPY_MODEL_3d89ad08532c4c8bb85e1d55e803ac18",
        "IPY_MODEL_0b45b8749887492b99b22190fe8cfad9",
        "IPY_MODEL_b3b4f41aa04b40e5a8980075cd9bb204"
       ],
       "layout": "IPY_MODEL_2bd8eb71434c457b96fce1c4b6c8faa2"
      }
     },
     "2bd8eb71434c457b96fce1c4b6c8faa2": {
      "model_module": "@jupyter-widgets/base",
      "model_module_version": "1.2.0",
      "model_name": "LayoutModel",
      "state": {
       "margin": "0px 0px 0px 37px",
       "width": "600px"
      }
     },
     "3d89ad08532c4c8bb85e1d55e803ac18": {
      "model_module": "@jupyter-widgets/controls",
      "model_module_version": "1.5.0",
      "model_name": "HTMLModel",
      "state": {
       "layout": "IPY_MODEL_9e581141e0df4032b26ec4b2781601e6",
       "style": "IPY_MODEL_c4101eaae619476a938e291483ab12b2",
       "value": "<h5>Status</h5>"
      }
     },
     "59c531aa52cc458e869a3b3b919c33a0": {
      "model_module": "@jupyter-widgets/controls",
      "model_module_version": "1.5.0",
      "model_name": "ButtonStyleModel",
      "state": {}
     },
     "6af0d28855c643a9a8d700c8862d0966": {
      "model_module": "@jupyter-widgets/controls",
      "model_module_version": "1.5.0",
      "model_name": "HTMLModel",
      "state": {
       "layout": "IPY_MODEL_0634bdeb5c724b07948f76bbae1723a5",
       "style": "IPY_MODEL_b08a3884be534a7d9d7fa72bb0ac1f7d",
       "value": "<h5>Backend</h5>"
      }
     },
     "6e95ce2b17574fda899cbe44f4aa3e27": {
      "model_module": "@jupyter-widgets/controls",
      "model_module_version": "1.5.0",
      "model_name": "ButtonModel",
      "state": {
       "button_style": "primary",
       "description": "Clear",
       "layout": "IPY_MODEL_03b524fa774d432c9979fcd02c7bc2d4",
       "style": "IPY_MODEL_59c531aa52cc458e869a3b3b919c33a0"
      }
     },
     "7e7060dfb0164f898e15953a3e26bd7e": {
      "model_module": "@jupyter-widgets/base",
      "model_module_version": "1.2.0",
      "model_name": "LayoutModel",
      "state": {
       "width": "190px"
      }
     },
     "941a10c5204c4fd3895c1ac33a3d6a10": {
      "model_module": "@jupyter-widgets/controls",
      "model_module_version": "1.5.0",
      "model_name": "DescriptionStyleModel",
      "state": {
       "description_width": ""
      }
     },
     "956f851349b446f9a87dd3b4e4883f49": {
      "model_module": "@jupyter-widgets/base",
      "model_module_version": "1.2.0",
      "model_name": "LayoutModel",
      "state": {
       "margin": "0px 0px 10px 0px"
      }
     },
     "9e581141e0df4032b26ec4b2781601e6": {
      "model_module": "@jupyter-widgets/base",
      "model_module_version": "1.2.0",
      "model_name": "LayoutModel",
      "state": {
       "width": "95px"
      }
     },
     "a4849cf164bc4514a17e9caf1810c435": {
      "model_module": "@jupyter-widgets/base",
      "model_module_version": "1.2.0",
      "model_name": "LayoutModel",
      "state": {
       "grid_template_areas": "\n                                       \". . . . right \"\n                                        ",
       "grid_template_columns": "20% 20% 20% 20% 20%",
       "width": "100%"
      }
     },
     "a9866ae17dc54a9db6a0d00960bfe61e": {
      "model_module": "@jupyter-widgets/controls",
      "model_module_version": "1.5.0",
      "model_name": "GridBoxModel",
      "state": {
       "children": [
        "IPY_MODEL_6e95ce2b17574fda899cbe44f4aa3e27"
       ],
       "layout": "IPY_MODEL_a4849cf164bc4514a17e9caf1810c435"
      }
     },
     "b08a3884be534a7d9d7fa72bb0ac1f7d": {
      "model_module": "@jupyter-widgets/controls",
      "model_module_version": "1.5.0",
      "model_name": "DescriptionStyleModel",
      "state": {
       "description_width": ""
      }
     },
     "b1a219cd26dd4db7a77e852a5d69a0d1": {
      "model_module": "@jupyter-widgets/base",
      "model_module_version": "1.2.0",
      "model_name": "LayoutModel",
      "state": {
       "width": "70px"
      }
     },
     "b3b4f41aa04b40e5a8980075cd9bb204": {
      "model_module": "@jupyter-widgets/controls",
      "model_module_version": "1.5.0",
      "model_name": "HTMLModel",
      "state": {
       "layout": "IPY_MODEL_1d428be8408b45c8bdc26d937503d397",
       "style": "IPY_MODEL_941a10c5204c4fd3895c1ac33a3d6a10",
       "value": "<h5>Message</h5>"
      }
     },
     "c4101eaae619476a938e291483ab12b2": {
      "model_module": "@jupyter-widgets/controls",
      "model_module_version": "1.5.0",
      "model_name": "DescriptionStyleModel",
      "state": {
       "description_width": ""
      }
     },
     "ca26a29380384207b4ac6835ad73b0ed": {
      "model_module": "@jupyter-widgets/controls",
      "model_module_version": "1.5.0",
      "model_name": "HTMLModel",
      "state": {
       "layout": "IPY_MODEL_7e7060dfb0164f898e15953a3e26bd7e",
       "style": "IPY_MODEL_178f871dbe574d60830427dba3e50174",
       "value": "<h5>Job ID</h5>"
      }
     },
     "cddc40a136444ac791a3bdadf32c5dca": {
      "model_module": "@jupyter-widgets/controls",
      "model_module_version": "1.5.0",
      "model_name": "HTMLModel",
      "state": {
       "layout": "IPY_MODEL_956f851349b446f9a87dd3b4e4883f49",
       "style": "IPY_MODEL_f91f6f246f3b4db4842f23788ffc603a",
       "value": "<p style='font-family: IBM Plex Sans, Arial, Helvetica, sans-serif; font-size: 20px; font-weight: medium;'>Circuit Properties</p>"
      }
     },
     "f91f6f246f3b4db4842f23788ffc603a": {
      "model_module": "@jupyter-widgets/controls",
      "model_module_version": "1.5.0",
      "model_name": "DescriptionStyleModel",
      "state": {
       "description_width": ""
      }
     }
    },
    "version_major": 2,
    "version_minor": 0
   }
  }
 },
 "nbformat": 4,
 "nbformat_minor": 5
}
